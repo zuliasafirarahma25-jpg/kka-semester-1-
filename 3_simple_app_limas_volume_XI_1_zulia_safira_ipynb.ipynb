{
  "nbformat": 4,
  "nbformat_minor": 0,
  "metadata": {
    "colab": {
      "provenance": [],
      "authorship_tag": "ABX9TyMs53xWmDWNzI4m4HGfOMbw",
      "include_colab_link": true
    },
    "kernelspec": {
      "name": "python3",
      "display_name": "Python 3"
    },
    "language_info": {
      "name": "python"
    }
  },
  "cells": [
    {
      "cell_type": "markdown",
      "metadata": {
        "id": "view-in-github",
        "colab_type": "text"
      },
      "source": [
        "<a href=\"https://colab.research.google.com/github/zuliasafirarahma25-jpg/kka-semester-1-/blob/main/3_simple_app_limas_volume_XI_1_zulia_safira_ipynb.ipynb\" target=\"_parent\"><img src=\"https://colab.research.google.com/assets/colab-badge.svg\" alt=\"Open In Colab\"/></a>"
      ]
    },
    {
      "cell_type": "markdown",
      "source": [
        "nama=zulia safira rahma\n",
        "\n",
        "kelas=XI-1\n",
        "\n",
        "no absan=36\n",
        "\n",
        "kelompok=bunga abadi"
      ],
      "metadata": {
        "id": "mE99sqrshV8e"
      }
    },
    {
      "cell_type": "markdown",
      "source": [
        "#aplikasi sederhana menghitung volume limas"
      ],
      "metadata": {
        "id": "XvDEyI8xh6w5"
      }
    },
    {
      "cell_type": "code",
      "execution_count": 15,
      "metadata": {
        "colab": {
          "base_uri": "https://localhost:8080/"
        },
        "id": "BafSwtMYg3uw",
        "outputId": "47cf1682-eacc-4508-b77c-f683a567537e"
      },
      "outputs": [
        {
          "output_type": "stream",
          "name": "stdout",
          "text": [
            "silahkan masukan alas limas (cm): 10.0\n",
            "silahkan masukan tinggi alas (cm): 15.0\n",
            "silahkan masukan tinggi limas (cm): 18.0\n",
            "luas alas adalah 75.0 cm^2\n",
            "volume limas adalah 0.0 cm^3\n"
          ]
        }
      ],
      "source": [
        "alas = float(input(\"silahkan masukan alas limas (cm): \"))\n",
        "tinggi_alas = float(input(\"silahkan masukan tinggi alas (cm): \"))\n",
        "tinggi_limas = float(input(\"silahkan masukan tinggi limas (cm): \"))\n",
        "\n",
        "luas_alas = 0.5* alas * tinggi_alas\n",
        "print(f\"luas alas adalah {luas_alas} cm^2\")\n",
        "volume = 1//3*luas_alas*tinggi_limas\n",
        "print(f\"volume limas adalah {volume} cm^3\" )"
      ]
    },
    {
      "cell_type": "code",
      "source": [],
      "metadata": {
        "id": "jvQUig8oprGv"
      },
      "execution_count": null,
      "outputs": []
    }
  ]
}