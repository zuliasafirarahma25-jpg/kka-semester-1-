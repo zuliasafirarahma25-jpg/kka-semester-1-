{
  "nbformat": 4,
  "nbformat_minor": 0,
  "metadata": {
    "colab": {
      "provenance": [],
      "authorship_tag": "ABX9TyPEJ8ZDwdIoqZmNcLmQbRUm",
      "include_colab_link": true
    },
    "kernelspec": {
      "name": "python3",
      "display_name": "Python 3"
    },
    "language_info": {
      "name": "python"
    }
  },
  "cells": [
    {
      "cell_type": "markdown",
      "metadata": {
        "id": "view-in-github",
        "colab_type": "text"
      },
      "source": [
        "<a href=\"https://colab.research.google.com/github/zuliasafirarahma25-jpg/kka-semester-1-/blob/main/1_fungsi_print_zulia_safira_xi_1.ipynb\" target=\"_parent\"><img src=\"https://colab.research.google.com/assets/colab-badge.svg\" alt=\"Open In Colab\"/></a>"
      ]
    },
    {
      "cell_type": "code",
      "execution_count": null,
      "metadata": {
        "colab": {
          "base_uri": "https://localhost:8080/"
        },
        "id": "QZPDa2vWJRM0",
        "outputId": "33023a75-b4aa-47e0-fe90-c401f89b86e1"
      },
      "outputs": [
        {
          "output_type": "stream",
          "name": "stdout",
          "text": [
            "Hello dunia\n"
          ]
        }
      ],
      "source": [
        "print ( \"Halo dunia\" )"
      ]
    },
    {
      "cell_type": "code",
      "source": [
        "print (\"Selamat datang di python\")"
      ],
      "metadata": {
        "colab": {
          "base_uri": "https://localhost:8080/"
        },
        "id": "a929FAnrJ2Rw",
        "outputId": "b1912326-7f09-4820-b383-d4113310c8ab"
      },
      "execution_count": null,
      "outputs": [
        {
          "output_type": "stream",
          "name": "stdout",
          "text": [
            "Selamat datang di python\n"
          ]
        }
      ]
    },
    {
      "cell_type": "code",
      "source": [
        "print (\"belajar python itu menyenangkan \")"
      ],
      "metadata": {
        "colab": {
          "base_uri": "https://localhost:8080/"
        },
        "id": "IarsQ-OwJ-91",
        "outputId": "7cd3aa08-2bfd-44d9-ff90-e38648f77cd2"
      },
      "execution_count": null,
      "outputs": [
        {
          "output_type": "stream",
          "name": "stdout",
          "text": [
            "belajar python itu menyenangkan \n"
          ]
        }
      ]
    },
    {
      "cell_type": "code",
      "source": [
        "print(\"Zulia safira rahma \")"
      ],
      "metadata": {
        "colab": {
          "base_uri": "https://localhost:8080/"
        },
        "id": "D8rC9IQpKH-U",
        "outputId": "3298cb25-9018-44e2-fa81-b5139558d869"
      },
      "execution_count": null,
      "outputs": [
        {
          "output_type": "stream",
          "name": "stdout",
          "text": [
            "Zulia safira rahma \n"
          ]
        }
      ]
    },
    {
      "cell_type": "markdown",
      "source": [
        "variabel"
      ],
      "metadata": {
        "id": "ZIh9EPaqKf5V"
      }
    },
    {
      "cell_type": "code",
      "source": [
        "nama = \"safira\"\n",
        "print(nama)"
      ],
      "metadata": {
        "colab": {
          "base_uri": "https://localhost:8080/"
        },
        "id": "PsvBz579KjSa",
        "outputId": "ebe15c6f-e11e-4fa5-d567-bb1b08120abc"
      },
      "execution_count": null,
      "outputs": [
        {
          "output_type": "stream",
          "name": "stdout",
          "text": [
            "safira\n"
          ]
        }
      ]
    },
    {
      "cell_type": "code",
      "source": [
        "BB = 40\n",
        "print(BB)"
      ],
      "metadata": {
        "colab": {
          "base_uri": "https://localhost:8080/"
        },
        "id": "E31szqI1K0x2",
        "outputId": "8c7fe0a5-1ee1-4ec5-daf6-b4f184b57fe4"
      },
      "execution_count": null,
      "outputs": [
        {
          "output_type": "stream",
          "name": "stdout",
          "text": [
            "40\n"
          ]
        }
      ]
    },
    {
      "cell_type": "code",
      "source": [
        "umur = 16\n",
        "print(umur)"
      ],
      "metadata": {
        "colab": {
          "base_uri": "https://localhost:8080/"
        },
        "id": "ZdlHR2mOeVio",
        "outputId": "c3ffb738-6f60-435e-d6d2-a681d4de7e62"
      },
      "execution_count": null,
      "outputs": [
        {
          "output_type": "stream",
          "name": "stdout",
          "text": [
            "16\n"
          ]
        }
      ]
    },
    {
      "cell_type": "code",
      "source": [
        "harga_telur = 27000\n",
        "print(\"harga telur per 1 kgadalah\",harga_telur)"
      ],
      "metadata": {
        "colab": {
          "base_uri": "https://localhost:8080/"
        },
        "id": "4AlZy1sYe_ez",
        "outputId": "0e3c6299-8651-4e69-9f7d-bc21bd910b27"
      },
      "execution_count": null,
      "outputs": [
        {
          "output_type": "stream",
          "name": "stdout",
          "text": [
            "harga telur per 1 kgadalah 27000\n"
          ]
        }
      ]
    },
    {
      "cell_type": "code",
      "source": [
        "harga_telur = 26000\n",
        "print(\"harga telur per 1 kg adalah\"+str(harga_telur))"
      ],
      "metadata": {
        "colab": {
          "base_uri": "https://localhost:8080/"
        },
        "id": "e5jDvZ9rg18V",
        "outputId": "d41a693a-3604-49a9-bae6-5187f4b44afd"
      },
      "execution_count": null,
      "outputs": [
        {
          "output_type": "stream",
          "name": "stdout",
          "text": [
            "harga telur per 1 kg adalah26000\n"
          ]
        }
      ]
    },
    {
      "cell_type": "code",
      "source": [
        "nama_pembeli = \"fazila\"\n",
        "print(\"nama pembeli telur adalah\" + str(nama_pembeli))"
      ],
      "metadata": {
        "colab": {
          "base_uri": "https://localhost:8080/"
        },
        "id": "5OXmUxp3fiDY",
        "outputId": "c270590f-9688-46f1-e0df-af8f96123897"
      },
      "execution_count": null,
      "outputs": [
        {
          "output_type": "stream",
          "name": "stdout",
          "text": [
            "nama pembeli telur adalahfazila\n"
          ]
        }
      ]
    },
    {
      "cell_type": "markdown",
      "source": [
        "latihan soal\n",
        "1. Tampilkan teks bebas: hari ini saya bahagia belajar bahasa python\n",
        "2. tampilkan nilai variabel:mata _pelajaran_favorit=kode dan kecerdasan buatan\n",
        "3. tampilkan nilai variabel:nilai_kka=100\n",
        "4. tampilkan teks bebas dan nilai variabel dengan tiga mode(f string\",+\",\",\"):\"nilai KKA saya adalah ({nilai_kka}loh!\""
      ],
      "metadata": {
        "id": "tz1o0NeMhvrd"
      }
    },
    {
      "cell_type": "markdown",
      "source": [
        "escape character"
      ],
      "metadata": {
        "id": "iXABA4fWjdo1"
      }
    },
    {
      "cell_type": "code",
      "source": [
        "print(\"nama: Zulia safira rahma \")\n",
        "print(\"kelas: XI-1\")\n",
        "print(\"nomer absen:36\")"
      ],
      "metadata": {
        "colab": {
          "base_uri": "https://localhost:8080/"
        },
        "id": "V72tDYk_jiwm",
        "outputId": "9d73b2ed-306c-4c7d-ab62-891e73c9e467"
      },
      "execution_count": null,
      "outputs": [
        {
          "output_type": "stream",
          "name": "stdout",
          "text": [
            "nama: Zulia safira rahma \n",
            "kelas: XI-1\n",
            "nomer absen:36\n"
          ]
        }
      ]
    },
    {
      "cell_type": "code",
      "source": [
        "print('bu sinta berkata, \"semua harus menyimak pelajaran\"')"
      ],
      "metadata": {
        "colab": {
          "base_uri": "https://localhost:8080/"
        },
        "id": "RGsYZQo8C1af",
        "outputId": "77f2fa0e-049b-400a-ad77-ae3351f8ae48"
      },
      "execution_count": null,
      "outputs": [
        {
          "output_type": "stream",
          "name": "stdout",
          "text": [
            "bu sinta berkata, \"semua harus menyimak pelajaran\"\n"
          ]
        }
      ]
    },
    {
      "cell_type": "code",
      "source": [
        "print(\"Nama\\t\\t= Zulia safira rahma\\nKelas\\t\\t= XI-1\\nNomer absen= 36\")"
      ],
      "metadata": {
        "colab": {
          "base_uri": "https://localhost:8080/"
        },
        "id": "3fyiZYo1_W9b",
        "outputId": "a5ac93ec-fa10-4008-968a-d8b718b525ba"
      },
      "execution_count": null,
      "outputs": [
        {
          "output_type": "stream",
          "name": "stdout",
          "text": [
            "Nama\t\t= Zulia safira rahma\n",
            "Kelas\t\t= XI-1\n",
            "Nomer absen= 36\n"
          ]
        }
      ]
    },
    {
      "cell_type": "code",
      "source": [
        "print(\"\"\"Nama= zulia safira rahma\n",
        "kelas= XI-1\n",
        "No absen= 36\"\"\")"
      ],
      "metadata": {
        "colab": {
          "base_uri": "https://localhost:8080/"
        },
        "id": "rkT6vimBBBRa",
        "outputId": "7913372d-eda6-43ff-d5b0-319b93c47429"
      },
      "execution_count": null,
      "outputs": [
        {
          "output_type": "stream",
          "name": "stdout",
          "text": [
            "Nama= zulia safira rahma\n",
            "kelas= XI-1\n",
            "No absen= 36\n"
          ]
        }
      ]
    },
    {
      "cell_type": "code",
      "source": [
        "print('ja\\'far shodiq')"
      ],
      "metadata": {
        "colab": {
          "base_uri": "https://localhost:8080/"
        },
        "id": "-bgL8VeXBCup",
        "outputId": "20dfc582-6de8-4589-e62a-d26c806b1702"
      },
      "execution_count": null,
      "outputs": [
        {
          "output_type": "stream",
          "name": "stdout",
          "text": [
            "ja'far shodiq\n"
          ]
        }
      ]
    },
    {
      "cell_type": "code",
      "source": [
        "print(\"ja'far hodiq \")"
      ],
      "metadata": {
        "colab": {
          "base_uri": "https://localhost:8080/"
        },
        "id": "Le3QdkNRCfbs",
        "outputId": "ebf98bf8-0e12-4939-abe1-a19b00274998"
      },
      "execution_count": null,
      "outputs": [
        {
          "output_type": "stream",
          "name": "stdout",
          "text": [
            "ja'far hodiq \n"
          ]
        }
      ]
    },
    {
      "cell_type": "code",
      "source": [
        "print('bu sinta berkata \\\"semua harus menyimak pelajaran\"')"
      ],
      "metadata": {
        "colab": {
          "base_uri": "https://localhost:8080/"
        },
        "id": "Jz31vRH3ClUY",
        "outputId": "225de50d-1e97-4b84-8fe2-8a172a8e2357"
      },
      "execution_count": null,
      "outputs": [
        {
          "output_type": "stream",
          "name": "stdout",
          "text": [
            "bu sinta berkata \"semua harus menyimak pelajaran\"\n"
          ]
        }
      ]
    },
    {
      "cell_type": "code",
      "source": [
        "print(\"lokasi file video karnaval ada di D:\\\\Karnaval 2025\\\\mp4\")"
      ],
      "metadata": {
        "colab": {
          "base_uri": "https://localhost:8080/"
        },
        "id": "f6SNdo27DI4d",
        "outputId": "1db7d753-44e4-46c7-bfed-9df5505ec052"
      },
      "execution_count": null,
      "outputs": [
        {
          "output_type": "stream",
          "name": "stdout",
          "text": [
            "lokasi file video karnaval ada di D:\\Karnaval 2025\\mp4\n"
          ]
        }
      ]
    },
    {
      "cell_type": "markdown",
      "source": [
        "1. tampilkan teks bebas"
      ],
      "metadata": {
        "id": "7MC9_kXEBiok"
      }
    },
    {
      "cell_type": "code",
      "source": [
        "print(\"Hari ini saya senang belajar python\")"
      ],
      "metadata": {
        "colab": {
          "base_uri": "https://localhost:8080/"
        },
        "id": "iOWsW6VVBWKf",
        "outputId": "95419777-d4da-4951-80d4-53d0bdbecab7"
      },
      "execution_count": null,
      "outputs": [
        {
          "output_type": "stream",
          "name": "stdout",
          "text": [
            "Hari ini saya senang belajar python\n"
          ]
        }
      ]
    },
    {
      "cell_type": "code",
      "source": [
        "nilai_kka= 98\n",
        "print(\"nilai kka saya adalah\",nilai_kka,\"loh!\")"
      ],
      "metadata": {
        "colab": {
          "base_uri": "https://localhost:8080/"
        },
        "id": "RAP75h4yEVB7",
        "outputId": "724d03aa-0451-4f74-ae70-4c84731c672b"
      },
      "execution_count": null,
      "outputs": [
        {
          "output_type": "stream",
          "name": "stdout",
          "text": [
            "nilai kka saya adalah 98 loh!\n"
          ]
        }
      ]
    },
    {
      "cell_type": "code",
      "source": [
        "nilai_kka=100\n",
        "print(nilai_kka)"
      ],
      "metadata": {
        "colab": {
          "base_uri": "https://localhost:8080/"
        },
        "id": "7MiPd74uC9EN",
        "outputId": "460776a9-671c-446f-d756-d875e08390a9"
      },
      "execution_count": null,
      "outputs": [
        {
          "output_type": "stream",
          "name": "stdout",
          "text": [
            "100\n"
          ]
        }
      ]
    },
    {
      "cell_type": "code",
      "source": [
        "nilai_kka=98\n",
        "print(f\"Nilai kka saya adalah{nilai_kka}loh!\")"
      ],
      "metadata": {
        "colab": {
          "base_uri": "https://localhost:8080/"
        },
        "id": "dZLZJWw3DkEN",
        "outputId": "1598b82e-e248-4199-afd6-ead61f26514a"
      },
      "execution_count": null,
      "outputs": [
        {
          "output_type": "stream",
          "name": "stdout",
          "text": [
            "Nilai kka saya adalah98loh!\n"
          ]
        }
      ]
    },
    {
      "cell_type": "code",
      "source": [
        "print(\"mata_pelajaran_favorit= kimia \")"
      ],
      "metadata": {
        "colab": {
          "base_uri": "https://localhost:8080/"
        },
        "id": "-1otJ3pSCSlD",
        "outputId": "65c1bf34-be61-4761-f4be-34e6c116a3e3"
      },
      "execution_count": null,
      "outputs": [
        {
          "output_type": "stream",
          "name": "stdout",
          "text": [
            "mata_pelajaran_favorit= kimia \n"
          ]
        }
      ]
    },
    {
      "cell_type": "code",
      "source": [
        "nilai_kka= 98\n",
        "print(\"nilai kka saya adalah \" + str(nilai_kka) + \"loh!\")"
      ],
      "metadata": {
        "colab": {
          "base_uri": "https://localhost:8080/"
        },
        "id": "rrp09q2dEv88",
        "outputId": "f8b6fc7b-5cd2-466f-add9-9ebab526e4a0"
      },
      "execution_count": null,
      "outputs": [
        {
          "output_type": "stream",
          "name": "stdout",
          "text": [
            "nilai kka saya adalah 98loh!\n"
          ]
        }
      ]
    },
    {
      "cell_type": "markdown",
      "source": [
        "parameter fungsi print"
      ],
      "metadata": {
        "id": "SCpZJkO9HBcD"
      }
    },
    {
      "cell_type": "code",
      "source": [
        "tahun =2009\n",
        "bulan =\"september\"\n",
        "tanggal =26\n",
        "\n",
        "print(tanggal, end=\" \")\n",
        "print(bulan, end=\" \")\n",
        "print(tahun)"
      ],
      "metadata": {
        "colab": {
          "base_uri": "https://localhost:8080/"
        },
        "id": "aGiW7d-mHH42",
        "outputId": "2658b6a1-e4ef-45c3-938f-9e0e0dfca565"
      },
      "execution_count": null,
      "outputs": [
        {
          "output_type": "stream",
          "name": "stdout",
          "text": [
            "26 september 2009\n"
          ]
        }
      ]
    },
    {
      "cell_type": "code",
      "source": [
        "tahun =2009\n",
        "bulan =\"september\"\n",
        "tanggal =26\n",
        "\n",
        "print(tanggal, bulan, tahun, sep=\"/\")"
      ],
      "metadata": {
        "colab": {
          "base_uri": "https://localhost:8080/"
        },
        "id": "Q5fITMZbIqIF",
        "outputId": "b81f0435-82cd-4fdf-de52-fda3643a2e43"
      },
      "execution_count": null,
      "outputs": [
        {
          "output_type": "stream",
          "name": "stdout",
          "text": [
            "26/september/2009\n"
          ]
        }
      ]
    },
    {
      "cell_type": "markdown",
      "source": [
        "latihan\n",
        "tanggal-bulan-tahun\n"
      ],
      "metadata": {
        "id": "gt3_3F7lJxvF"
      }
    },
    {
      "cell_type": "code",
      "source": [
        "tanggal = 26\n",
        "bulan =\"september\"\n",
        "tahun =2009\n",
        "\n",
        "print(tanggal, bulan, tahun, sep=\"/\")"
      ],
      "metadata": {
        "colab": {
          "base_uri": "https://localhost:8080/"
        },
        "id": "iTmPISqpLOvo",
        "outputId": "f5a53be4-1828-42d1-df53-7309aaa90e9f"
      },
      "execution_count": null,
      "outputs": [
        {
          "output_type": "stream",
          "name": "stdout",
          "text": [
            "26/september/2009\n"
          ]
        }
      ]
    },
    {
      "cell_type": "code",
      "source": [
        "nama_depan =\"zulia\"\n",
        "nama_belakang =\"safira\"\n",
        "\n",
        "print(nama_depan,nama_belakang)"
      ],
      "metadata": {
        "colab": {
          "base_uri": "https://localhost:8080/"
        },
        "id": "iPa4o-BTJjAH",
        "outputId": "431a9bc0-a3c1-489c-c00e-cea94dc5db53"
      },
      "execution_count": null,
      "outputs": [
        {
          "output_type": "stream",
          "name": "stdout",
          "text": [
            "zulia safira\n"
          ]
        }
      ]
    },
    {
      "cell_type": "code",
      "source": [
        "nama_depan = \"Zulia\"\n",
        "nama_belakang = \"safira\"\n",
        "\n",
        "print(nama_depan, end=\" \")\n",
        "print(nama_belakang)"
      ],
      "metadata": {
        "colab": {
          "base_uri": "https://localhost:8080/"
        },
        "id": "k9y9ptm8KNf9",
        "outputId": "81526afe-f3ba-4f59-dfa4-bc2be4bf1dec"
      },
      "execution_count": null,
      "outputs": [
        {
          "output_type": "stream",
          "name": "stdout",
          "text": [
            "Zulia safira\n"
          ]
        }
      ]
    },
    {
      "cell_type": "code",
      "source": [
        "print ( \"bu sinta berkata, \\\"berikut adalah judul pelajaran hari senin selasa rabu silahkan disimpan di laptop masing-masing di fold local disk:\\\\jadwal pelajaran \\\\kelas XI sem ester  1\\\"\")\n",
        "print ( \"\\njadwal pelajaran mingguan\")\n",
        "print ( \"=======================================================\" )\n",
        "print ( \" jam\\tsenin\\t\\tselasa\\t\\tinformatika\" )\n",
        "print ( \" jam 1\\tmatematika\\tbahasa\\t\\tinformatika\" )\n",
        "print ( \" jam 2\\tbahasa ing.\\tsejarah\\t\\tma'rifatullah\" )\n",
        "print ( \" jam 3\\tinformatika\\tolahraga\\tbiologi\" )"
      ],
      "metadata": {
        "colab": {
          "base_uri": "https://localhost:8080/"
        },
        "id": "yxgNDJEuPNdD",
        "outputId": "caea3dab-943a-443c-facd-d90a4e64b636"
      },
      "execution_count": null,
      "outputs": [
        {
          "output_type": "stream",
          "name": "stdout",
          "text": [
            "bu sinta berkata, \"berikut adalah judul pelajaran hari senin selasa rabu silahkan disimpan di laptop masing-masing di fold local disk:\\jadwal pelajaran \\kelas XI sem ester  1\"\n",
            "\n",
            "jadwal pelajaran mingguan\n",
            "=======================================================\n",
            " jam\tsenin\t\tselasa\t\tinformatika\n",
            " jam 1\tmatematika\tbahasa\t\tinformatika\n",
            " jam 2\tbahasa ing.\tsejarah\t\tma'rifatullah\n",
            " jam 3\tinformatika\tolahraga\tbiologi\n"
          ]
        }
      ]
    },
    {
      "cell_type": "code",
      "source": [
        "nama_siswa_1 =  \"favian\"\n",
        "nama_siswa_2 =  \"naufal\"\n",
        "nama_siswa_3 =  \"humaira\"\n",
        "\n",
        "\n",
        "print(nama_siswa_1, nama_siswa_2, nama_siswa_3, nama_siswa_1, sep= \"~\" )"
      ],
      "metadata": {
        "colab": {
          "base_uri": "https://localhost:8080/"
        },
        "id": "kJlsw7WQE4Ap",
        "outputId": "f5b512d3-d8a2-4b01-ed9f-1823bc8e98d7"
      },
      "execution_count": null,
      "outputs": [
        {
          "output_type": "stream",
          "name": "stdout",
          "text": [
            "favian~naufal~humaira~favian\n"
          ]
        }
      ]
    },
    {
      "cell_type": "code",
      "source": [
        "nama_1 =  \"naufal\"\n",
        "nama_2 =  \"favian\"\n",
        "nama_3 =  \"humaira\"\n",
        "print (nama_1, end= \"~\")\n",
        "print (nama_2)\n",
        "print (nama_3, end=\"~\")\n",
        "print (nama_2)"
      ],
      "metadata": {
        "id": "QE0XvV9EKFS7",
        "colab": {
          "base_uri": "https://localhost:8080/"
        },
        "outputId": "295a5fa0-4877-4edf-db0b-4863adc1d67e"
      },
      "execution_count": null,
      "outputs": [
        {
          "output_type": "stream",
          "name": "stdout",
          "text": [
            "naufal~favian\n",
            "humaira~favian\n"
          ]
        }
      ]
    }
  ]
}